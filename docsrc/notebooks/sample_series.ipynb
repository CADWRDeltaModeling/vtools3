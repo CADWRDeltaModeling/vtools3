{
 "cells": [
  {
   "cell_type": "markdown",
   "metadata": {},
   "source": [
    "# Sample Series"
   ]
  },
  {
   "cell_type": "code",
   "execution_count": 1,
   "metadata": {
    "ExecuteTime": {
     "end_time": "2019-11-08T19:08:11.309346Z",
     "start_time": "2019-11-08T19:08:09.136418Z"
    }
   },
   "outputs": [],
   "source": [
    "import numpy as np\n",
    "import pandas as pd\n",
    "import matplotlib.pyplot as plt\n",
    "import scipy.special as ss\n",
    "from vtools.functions.filter import butterworth,cosine_lanczos"
   ]
  },
  {
   "cell_type": "code",
   "execution_count": 2,
   "metadata": {
    "ExecuteTime": {
     "end_time": "2019-11-08T19:08:11.313346Z",
     "start_time": "2019-11-08T19:08:11.311345Z"
    }
   },
   "outputs": [],
   "source": [
    "# Frequency, amplitude, phase of semidiurnal tide\n",
    "# elev_tide = {\n",
    "# \"O1\": (6.759775e-05 ,0.755 ,96.),\\\n",
    "# \"K1\": (7.292117e-05,1.2,105.),\\\n",
    "# \"Q1\": (6.495457e-05,1.15212,282.20352),\\\n",
    "# \"P1\": (7.251056e-05, 0.99465 ,40.40973),\\\n",
    "# \"M2\": (1.405189e-04,1.89,336.),\\\n",
    "# \"S2\": (1.454441e-04,0.449,336.)}"
   ]
  },
  {
   "cell_type": "code",
   "execution_count": 3,
   "metadata": {
    "ExecuteTime": {
     "end_time": "2019-11-08T19:08:11.351378Z",
     "start_time": "2019-11-08T19:08:11.315349Z"
    }
   },
   "outputs": [],
   "source": [
    "def interval(ts):\n",
    "    \"\"\"Sampling interval of series\"\"\"\n",
    "    return ts.index.frequency"
   ]
  },
  {
   "cell_type": "code",
   "execution_count": 4,
   "metadata": {
    "ExecuteTime": {
     "end_time": "2019-11-08T19:08:11.383414Z",
     "start_time": "2019-11-08T19:08:11.353434Z"
    }
   },
   "outputs": [],
   "source": [
    "def bessel_df():\n",
    "    \"\"\" Sample series with bessel function signals\"\"\"\n",
    "    numpoints = 100000\n",
    "    date_rng1 = pd.date_range(\n",
    "        start='1992-03-07', periods=numpoints, freq='15min')\n",
    "    date_rng2 = pd.date_range(\n",
    "        start='1992-03-07', periods=numpoints, freq='15min')\n",
    "\n",
    "    x = np.linspace(-5, 85, numpoints)\n",
    "    df0 = pd.DataFrame(index=date_rng1, columns=['date'])\n",
    "    df0['data'] = ss.jn(2, x)\n",
    "\n",
    "    df1 = pd.DataFrame(index=date_rng2, columns=['one', 'two'])\n",
    "    df1['one'] = ss.jn(2, x)\n",
    "    df1['two'] = ss.jn(3, x)\n",
    "\n",
    "    df2 = pd.DataFrame(index=date_rng2, columns=['data'])\n",
    "    df2[\"data\"] = ss.jn(4, x)\n",
    "    return (df0, df1, df2)"
   ]
  },
  {
   "cell_type": "code",
   "execution_count": 5,
   "metadata": {
    "ExecuteTime": {
     "end_time": "2019-11-08T19:08:11.422584Z",
     "start_time": "2019-11-08T19:08:11.384405Z"
    }
   },
   "outputs": [],
   "source": [
    "def jay_flinchem_chirptest(c1=3.5, c2=5.5, c3=0.0002, c4=6.75):\n",
    "    \"\"\" Approximation of the signal from Jay and Flinchem 1999\n",
    "    A comparison of methods for analysis of tidal records containing multi-scale non-tidal background energy\n",
    "    that has a small tide with noisy, river-influenced amplitude and subtide\"\"\"\n",
    "    c1 = 3.5\n",
    "    c2 = 5.5\n",
    "    c3 = 0.0002\n",
    "    c4 *= 2.*np.pi\n",
    "    nval = 51*24\n",
    "    omega = np.array([1., 2., 3., 4])\n",
    "    gamma = np.array([40., 40., 30., 90.])*2.*np.pi/360.\n",
    "\n",
    "    t = np.linspace(-42, 8., nval)\n",
    "    tnorm = t*2.*np.pi\n",
    "    ai, aip, bi, bip = ss.airy(-c3*np.square(tnorm-c4))\n",
    "    Qr = c1 + c2*ai\n",
    "\n",
    "    A = np.array([0.5, 1., 0.25, 0.1])\n",
    "    Aj0 = A*1.\n",
    "    Aj1 = np.array([0.4, 0.4, 0.4, 0.4])*.97\n",
    "\n",
    "    D = np.zeros_like(t)\n",
    "\n",
    "    for i in range(4):\n",
    "        j = i+1\n",
    "        phij = gamma[i]*np.sqrt(Qr-1)\n",
    "        #print(\"phi {}\".format(phij))\n",
    "        Aj = Aj0[i]*(1.-Aj1[i]*np.sqrt(Qr))\n",
    "        D += Aj*np.cos(tnorm*omega[i]-phij)\n",
    "\n",
    "    dr = pd.date_range('2000-01-01', periods=nval, freq='H')\n",
    "    return pd.DataFrame({\"data\": (D+Qr), \"D\": D, \"Qr\": Qr}, index=dr)"
   ]
  },
  {
   "cell_type": "code",
   "execution_count": 6,
   "metadata": {
    "ExecuteTime": {
     "end_time": "2019-11-08T19:08:11.454877Z",
     "start_time": "2019-11-08T19:08:11.424581Z"
    }
   },
   "outputs": [],
   "source": [
    "def small_subtide(subtide_scale=0., add_nan=False):\n",
    "    \"\"\"Inspired by large tidal flow with small Qr undercurrent with 72hr period\n",
    "    This is a tough lowpass filtering job because the diurnal band is large and \n",
    "    must be supressed in order to see the more subtle subtidal amplitude\"\"\"\n",
    "    freqmult = np.pi/180./3600.   # converts cycles/hour to rad/sec\n",
    "    discharge_tide = {\n",
    "        \"O1\": (13.943035*freqmult, 0.5*0.755, 96),\n",
    "        \"K1\": (15.041069*freqmult, 0.5*1.2, 105.),\n",
    "        \"M2\": (28.984104*freqmult, 0.75*1.89, 336.),\n",
    "        \"S2\": (30.*freqmult, 0.75*0.449, 336.)}\n",
    "\n",
    "    month_nsec = 30*86400\n",
    "    t = np.arange(0, month_nsec, 900)\n",
    "    nsample = len(t)\n",
    "    nanstart = nsample//3\n",
    "    numnan = nsample//10\n",
    "    FLOW_SCALE = 100000.\n",
    "    tide = t*0.\n",
    "    for key, (freq, amp, phase) in discharge_tide.items():\n",
    "        print(key, freq, amp, phase)\n",
    "        tide += FLOW_SCALE*amp*np.cos(freq*t-phase*np.pi/180.)\n",
    "\n",
    "    subtide_freq = 2.*np.pi/(3.*86400.)  # one cycle per 3 days\n",
    "    # Add a subtide that is very small compared to the tidal amplitude\n",
    "    tide += subtide_scale*FLOW_SCALE*np.cos(subtide_freq*t)\n",
    "\n",
    "    tide[nanstart:(nanstart+numnan)] = np.nan\n",
    "    dr = pd.date_range(start=\"2000-01-01\", periods=nsample, freq=\"15min\")\n",
    "    return pd.DataFrame({\"values\": tide}, dr)"
   ]
  },
  {
   "cell_type": "code",
   "execution_count": 7,
   "metadata": {
    "ExecuteTime": {
     "end_time": "2019-11-08T19:08:11.483066Z",
     "start_time": "2019-11-08T19:08:11.456878Z"
    }
   },
   "outputs": [],
   "source": [
    "def extra():\n",
    "    fig, ax0 = plt.subplots(1)\n",
    "    ts.plot(ax=ax0)\n",
    "    plt.show()\n",
    "\n",
    "    jf = jay_flinchem_chirptest()\n",
    "    fig, ax0 = plt.subplots(1)\n",
    "    jf.data.plot(ax=ax0)\n",
    "    plt.show()\n",
    "\n",
    "    (df0, df1, df2) = create_sample_df()\n",
    "    fig, ax0 = plt.subplots(1)\n",
    "    df1.plot(ax=ax0)\n",
    "    df2.plot(ax=ax0)"
   ]
  },
  {
   "cell_type": "code",
   "execution_count": 8,
   "metadata": {
    "ExecuteTime": {
     "end_time": "2019-11-08T19:08:12.149682Z",
     "start_time": "2019-11-08T19:08:11.486069Z"
    }
   },
   "outputs": [
    {
     "name": "stdout",
     "output_type": "stream",
     "text": [
      "O1 6.7597741241891e-05 0.3775 96\n",
      "K1 7.292116029712528e-05 0.6 105.0\n",
      "M2 0.00014051890153901625 1.4175 336.0\n",
      "S2 0.0001454441043328608 0.33675 336.0\n"
     ]
    },
    {
     "data": {
      "image/png": "[encoded data removed]",
      "text/plain": [
       "<Figure size 432x288 with 1 Axes>"
      ]
     },
     "metadata": {
      "needs_background": "light"
     },
     "output_type": "display_data"
    },
    {
     "name": "stdout",
     "output_type": "stream",
     "text": [
      "<class 'pandas.tseries.offsets.Minute'>\n"
     ]
    }
   ],
   "source": [
    "ts = small_subtide(subtide_scale=0.03, add_nan=True)\n",
    "cutoff = pd.tseries.frequencies.Hour(40)\n",
    "filtered0 = butterworth(ts, cutoff, order=8)\n",
    "filtered1 = cosine_lanczos(ts, cutoff)\n",
    "fig, ax0 = plt.subplots(1)\n",
    "filtered0.plot(ax=ax0)\n",
    "filtered1.plot(ax=ax0)\n",
    "ts.plot(ax=ax0)\n",
    "plt.show()\n",
    "\n",
    "print(type(ts.index.freq))"
   ]
  },
  {
   "cell_type": "code",
   "execution_count": null,
   "metadata": {},
   "outputs": [],
   "source": []
  }
 ],
 "metadata": {
  "hide_input": false,
  "kernelspec": {
   "display_name": "Python 3",
   "language": "python",
   "name": "python3"
  },
  "language_info": {
   "codemirror_mode": {
    "name": "ipython",
    "version": 3
   },
   "file_extension": ".py",
   "mimetype": "text/x-python",
   "name": "python",
   "nbconvert_exporter": "python",
   "pygments_lexer": "ipython3",
   "version": "3.7.3"
  },
  "varInspector": {
   "cols": {
    "lenName": 16,
    "lenType": 16,
    "lenVar": 40
   },
   "kernels_config": {
    "python": {
     "delete_cmd_postfix": "",
     "delete_cmd_prefix": "del ",
     "library": "var_list.py",
     "varRefreshCmd": "print(var_dic_list())"
    },
    "r": {
     "delete_cmd_postfix": ") ",
     "delete_cmd_prefix": "rm(",
     "library": "var_list.r",
     "varRefreshCmd": "cat(var_dic_list()) "
    }
   },
   "types_to_exclude": [
    "module",
    "function",
    "builtin_function_or_method",
    "instance",
    "_Feature"
   ],
   "window_display": false
  }
 },
 "nbformat": 4,
 "nbformat_minor": 2
}
